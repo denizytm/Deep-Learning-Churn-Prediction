{
 "cells": [
  {
   "cell_type": "code",
   "execution_count": 11,
   "metadata": {},
   "outputs": [
    {
     "name": "stdout",
     "output_type": "stream",
     "text": [
      "Epoch 1/3\n",
      "\u001b[1m1875/1875\u001b[0m \u001b[32m━━━━━━━━━━━━━━━━━━━━\u001b[0m\u001b[37m\u001b[0m \u001b[1m3s\u001b[0m 1ms/step - accuracy: 0.8658 - loss: 0.4751\n",
      "Epoch 2/3\n",
      "\u001b[1m1875/1875\u001b[0m \u001b[32m━━━━━━━━━━━━━━━━━━━━\u001b[0m\u001b[37m\u001b[0m \u001b[1m2s\u001b[0m 1ms/step - accuracy: 0.9629 - loss: 0.1170\n",
      "Epoch 3/3\n",
      "\u001b[1m1875/1875\u001b[0m \u001b[32m━━━━━━━━━━━━━━━━━━━━\u001b[0m\u001b[37m\u001b[0m \u001b[1m2s\u001b[0m 1ms/step - accuracy: 0.9776 - loss: 0.0708\n"
     ]
    },
    {
     "data": {
      "text/plain": [
       "<keras.src.callbacks.history.History at 0x260a0ff5f40>"
      ]
     },
     "execution_count": 11,
     "metadata": {},
     "output_type": "execute_result"
    }
   ],
   "source": [
    "import tensorflow as tf\n",
    "mnist = tf.keras.datasets.mnist # 28x28 images of hand-written digits 0-9\n",
    "\n",
    "(x_train,y_train),(x_test,y_test) = mnist.load_data() # split the that as train and test\n",
    "\n",
    "# normally, in the multidimentional data values are between 0 and 255 but in the blow we make scaling which makes all the values between 0 and 1\n",
    "# normalization helps model to learn the data easier\n",
    "x_train = tf.keras.utils.normalize(x_train,axis = 1) \n",
    "x_test = tf.keras.utils.normalize(x_test,axis = 1)\n",
    "\n",
    "model = tf.keras.models.Sequential() # Feed Forward Model\n",
    "model.add(tf.keras.layers.Flatten()) # method to add layer\n",
    "            #Flat Layer makes the multidimentional array into one dimenitonal, makes if flat 28x28 -> 784\n",
    "            #This is required for the Dense Layer \n",
    "model.add(tf.keras.layers.Dense(128,activation=tf.nn.relu))\n",
    "                                #Neuron number, activation is for the selecting activation function, we use relu\n",
    "            #Dense Layer is fully connected Layer which means every input neuron is connected to output neuron \n",
    "model.add(tf.keras.layers.Dense(128,activation=tf.nn.relu)) # We added another Dense Layer\n",
    "model.add(tf.keras.layers.Dense(10,activation=tf.nn.softmax)) # Last layer will be output layer which still is a Dense Layer\n",
    "\n",
    "model.compile(\n",
    "    optimizer='adam', # optimization function aims to minimize the loss by updating the weight values\n",
    "    loss='sparse_categorical_crossentropy', # this function is to calculate the loss\n",
    "    metrics=['accuracy'] # metric values to show in each epoch\n",
    ") \n",
    "model.fit(x_train,y_train,epochs=3)"
   ]
  },
  {
   "cell_type": "code",
   "execution_count": 12,
   "metadata": {},
   "outputs": [
    {
     "name": "stdout",
     "output_type": "stream",
     "text": [
      "\u001b[1m313/313\u001b[0m \u001b[32m━━━━━━━━━━━━━━━━━━━━\u001b[0m\u001b[37m\u001b[0m \u001b[1m0s\u001b[0m 774us/step - accuracy: 0.9688 - loss: 0.1023\n",
      "0.08820593357086182 0.9731000065803528\n"
     ]
    }
   ],
   "source": [
    "val_loss, val_acc = model.evaluate(x_test,y_test)\n",
    "print(val_loss,val_acc)"
   ]
  },
  {
   "cell_type": "code",
   "execution_count": 13,
   "metadata": {},
   "outputs": [
    {
     "name": "stdout",
     "output_type": "stream",
     "text": [
      "\u001b[1m218/313\u001b[0m \u001b[32m━━━━━━━━━━━━━\u001b[0m\u001b[37m━━━━━━━\u001b[0m \u001b[1m0s\u001b[0m 700us/step"
     ]
    },
    {
     "name": "stderr",
     "output_type": "stream",
     "text": [
      "c:\\Users\\user\\AppData\\Local\\Programs\\Python\\Python39\\lib\\site-packages\\keras\\src\\models\\functional.py:238: UserWarning: The structure of `inputs` doesn't match the expected structure.\n",
      "Expected: keras_tensor_15\n",
      "Received: inputs=('Tensor(shape=(32, 28, 28))',)\n",
      "  warnings.warn(msg)\n"
     ]
    },
    {
     "name": "stdout",
     "output_type": "stream",
     "text": [
      "\u001b[1m313/313\u001b[0m \u001b[32m━━━━━━━━━━━━━━━━━━━━\u001b[0m\u001b[37m\u001b[0m \u001b[1m0s\u001b[0m 815us/step\n"
     ]
    },
    {
     "name": "stderr",
     "output_type": "stream",
     "text": [
      "c:\\Users\\user\\AppData\\Local\\Programs\\Python\\Python39\\lib\\site-packages\\keras\\src\\models\\functional.py:238: UserWarning: The structure of `inputs` doesn't match the expected structure.\n",
      "Expected: keras_tensor_15\n",
      "Received: inputs=('Tensor(shape=(None, 28, 28))',)\n",
      "  warnings.warn(msg)\n"
     ]
    }
   ],
   "source": [
    "predictions = model.predict([x_test])"
   ]
  },
  {
   "cell_type": "code",
   "execution_count": null,
   "metadata": {},
   "outputs": [
    {
     "name": "stdout",
     "output_type": "stream",
     "text": [
      "7\n"
     ]
    }
   ],
   "source": [
    "import numpy as np\n",
    "print(np.argmax(predictions[0])) # prediction[0] is an array includes 10 elements which is between 0 and 1, so each possibility for each numbers. \n",
    "# in this case it comes out 7, so the value in the array which has index as 7 has the highest value"
   ]
  },
  {
   "cell_type": "code",
   "execution_count": 15,
   "metadata": {},
   "outputs": [
    {
     "data": {
      "image/png": "[encoded data removed]",
      "text/plain": [
       "<Figure size 640x480 with 1 Axes>"
      ]
     },
     "metadata": {},
     "output_type": "display_data"
    }
   ],
   "source": [
    "import matplotlib.pyplot as plt\n",
    "                     #cmap = color map -> to change the colors of the image \n",
    "plt.imshow(x_test[0],cmap=plt.cm.binary) # to see the example data (normally its multidimentional array)\n",
    "                     #cm.binary is for black and white colors\n",
    "plt.show() # after the normalization the image is gonna be lighter\n",
    "\n"
   ]
  }
 ],
 "metadata": {
  "kernelspec": {
   "display_name": "Python 3",
   "language": "python",
   "name": "python3"
  },
  "language_info": {
   "codemirror_mode": {
    "name": "ipython",
    "version": 3
   },
   "file_extension": ".py",
   "mimetype": "text/x-python",
   "name": "python",
   "nbconvert_exporter": "python",
   "pygments_lexer": "ipython3",
   "version": "3.9.2"
  }
 },
 "nbformat": 4,
 "nbformat_minor": 2
}
